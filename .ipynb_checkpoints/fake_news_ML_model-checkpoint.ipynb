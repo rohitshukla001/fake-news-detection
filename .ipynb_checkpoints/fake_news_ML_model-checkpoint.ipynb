{
 "cells": [
  {
   "cell_type": "markdown",
   "id": "c3d356db",
   "metadata": {},
   "source": [
    "<h1> fake news classification </h1>"
   ]
  },
  {
   "cell_type": "markdown",
   "id": "c2e624b3",
   "metadata": {},
   "source": [
    "DataSet :https://www.kaggle.com/c/fake-news/data#"
   ]
  },
  {
   "cell_type": "code",
   "execution_count": 1,
   "id": "106d840a",
   "metadata": {},
   "outputs": [],
   "source": [
    "#based level imports for data science work\n",
    "import pandas as pd\n",
    "import numpy as np \n",
    "import re,string\n",
    "import pickle\n",
    "\n",
    "\n",
    "#visualization libs\n",
    "import seaborn as sb\n",
    "from matplotlib import pyplot as plt\n",
    "\n",
    "\n",
    "#NLP Libs\n",
    "import nltk\n",
    "from sklearn.feature_extraction.text import TfidfVectorizer\n",
    "from nltk.corpus import stopwords\n",
    "\n",
    "\n",
    "#lib for ML algos \n",
    "from sklearn.linear_model import LogisticRegression\n",
    "from sklearn.neighbors import KNeighborsClassifier\n",
    "from sklearn.naive_bayes import MultinomialNB\n",
    "from sklearn.tree import DecisionTreeClassifier\n",
    "\n",
    "from sklearn.model_selection import train_test_split\n",
    "from sklearn.metrics import accuracy_score\n",
    "from sklearn.metrics import classification_report, confusion_matrix\n",
    "from time import time\n",
    "\n"
   ]
  },
  {
   "cell_type": "code",
   "execution_count": 2,
   "id": "79c19736",
   "metadata": {},
   "outputs": [],
   "source": [
    "dataset = pd.read_csv(r\"C:\\Users\\LENOVO\\Downloads\\Fake-Reviews-Detection-main\\train.csv\")"
   ]
  },
  {
   "cell_type": "code",
   "execution_count": 3,
   "id": "91db411c",
   "metadata": {},
   "outputs": [
    {
     "data": {
      "text/html": [
       "<div>\n",
       "<style scoped>\n",
       "    .dataframe tbody tr th:only-of-type {\n",
       "        vertical-align: middle;\n",
       "    }\n",
       "\n",
       "    .dataframe tbody tr th {\n",
       "        vertical-align: top;\n",
       "    }\n",
       "\n",
       "    .dataframe thead th {\n",
       "        text-align: right;\n",
       "    }\n",
       "</style>\n",
       "<table border=\"1\" class=\"dataframe\">\n",
       "  <thead>\n",
       "    <tr style=\"text-align: right;\">\n",
       "      <th></th>\n",
       "      <th>id</th>\n",
       "      <th>title</th>\n",
       "      <th>author</th>\n",
       "      <th>text</th>\n",
       "      <th>label</th>\n",
       "    </tr>\n",
       "  </thead>\n",
       "  <tbody>\n",
       "    <tr>\n",
       "      <th>0</th>\n",
       "      <td>0</td>\n",
       "      <td>House Dem Aide: We Didn’t Even See Comey’s Let...</td>\n",
       "      <td>Darrell Lucus</td>\n",
       "      <td>House Dem Aide: We Didn’t Even See Comey’s Let...</td>\n",
       "      <td>1</td>\n",
       "    </tr>\n",
       "    <tr>\n",
       "      <th>1</th>\n",
       "      <td>1</td>\n",
       "      <td>FLYNN: Hillary Clinton, Big Woman on Campus - ...</td>\n",
       "      <td>Daniel J. Flynn</td>\n",
       "      <td>Ever get the feeling your life circles the rou...</td>\n",
       "      <td>0</td>\n",
       "    </tr>\n",
       "    <tr>\n",
       "      <th>2</th>\n",
       "      <td>2</td>\n",
       "      <td>Why the Truth Might Get You Fired</td>\n",
       "      <td>Consortiumnews.com</td>\n",
       "      <td>Why the Truth Might Get You Fired October 29, ...</td>\n",
       "      <td>1</td>\n",
       "    </tr>\n",
       "    <tr>\n",
       "      <th>3</th>\n",
       "      <td>3</td>\n",
       "      <td>15 Civilians Killed In Single US Airstrike Hav...</td>\n",
       "      <td>Jessica Purkiss</td>\n",
       "      <td>Videos 15 Civilians Killed In Single US Airstr...</td>\n",
       "      <td>1</td>\n",
       "    </tr>\n",
       "    <tr>\n",
       "      <th>4</th>\n",
       "      <td>4</td>\n",
       "      <td>Iranian woman jailed for fictional unpublished...</td>\n",
       "      <td>Howard Portnoy</td>\n",
       "      <td>Print \\nAn Iranian woman has been sentenced to...</td>\n",
       "      <td>1</td>\n",
       "    </tr>\n",
       "    <tr>\n",
       "      <th>...</th>\n",
       "      <td>...</td>\n",
       "      <td>...</td>\n",
       "      <td>...</td>\n",
       "      <td>...</td>\n",
       "      <td>...</td>\n",
       "    </tr>\n",
       "    <tr>\n",
       "      <th>20795</th>\n",
       "      <td>20795</td>\n",
       "      <td>Rapper T.I.: Trump a ’Poster Child For White S...</td>\n",
       "      <td>Jerome Hudson</td>\n",
       "      <td>Rapper T. I. unloaded on black celebrities who...</td>\n",
       "      <td>0</td>\n",
       "    </tr>\n",
       "    <tr>\n",
       "      <th>20796</th>\n",
       "      <td>20796</td>\n",
       "      <td>N.F.L. Playoffs: Schedule, Matchups and Odds -...</td>\n",
       "      <td>Benjamin Hoffman</td>\n",
       "      <td>When the Green Bay Packers lost to the Washing...</td>\n",
       "      <td>0</td>\n",
       "    </tr>\n",
       "    <tr>\n",
       "      <th>20797</th>\n",
       "      <td>20797</td>\n",
       "      <td>Macy’s Is Said to Receive Takeover Approach by...</td>\n",
       "      <td>Michael J. de la Merced and Rachel Abrams</td>\n",
       "      <td>The Macy’s of today grew from the union of sev...</td>\n",
       "      <td>0</td>\n",
       "    </tr>\n",
       "    <tr>\n",
       "      <th>20798</th>\n",
       "      <td>20798</td>\n",
       "      <td>NATO, Russia To Hold Parallel Exercises In Bal...</td>\n",
       "      <td>Alex Ansary</td>\n",
       "      <td>NATO, Russia To Hold Parallel Exercises In Bal...</td>\n",
       "      <td>1</td>\n",
       "    </tr>\n",
       "    <tr>\n",
       "      <th>20799</th>\n",
       "      <td>20799</td>\n",
       "      <td>What Keeps the F-35 Alive</td>\n",
       "      <td>David Swanson</td>\n",
       "      <td>David Swanson is an author, activist, journa...</td>\n",
       "      <td>1</td>\n",
       "    </tr>\n",
       "  </tbody>\n",
       "</table>\n",
       "<p>20800 rows × 5 columns</p>\n",
       "</div>"
      ],
      "text/plain": [
       "          id                                              title  \\\n",
       "0          0  House Dem Aide: We Didn’t Even See Comey’s Let...   \n",
       "1          1  FLYNN: Hillary Clinton, Big Woman on Campus - ...   \n",
       "2          2                  Why the Truth Might Get You Fired   \n",
       "3          3  15 Civilians Killed In Single US Airstrike Hav...   \n",
       "4          4  Iranian woman jailed for fictional unpublished...   \n",
       "...      ...                                                ...   \n",
       "20795  20795  Rapper T.I.: Trump a ’Poster Child For White S...   \n",
       "20796  20796  N.F.L. Playoffs: Schedule, Matchups and Odds -...   \n",
       "20797  20797  Macy’s Is Said to Receive Takeover Approach by...   \n",
       "20798  20798  NATO, Russia To Hold Parallel Exercises In Bal...   \n",
       "20799  20799                          What Keeps the F-35 Alive   \n",
       "\n",
       "                                          author  \\\n",
       "0                                  Darrell Lucus   \n",
       "1                                Daniel J. Flynn   \n",
       "2                             Consortiumnews.com   \n",
       "3                                Jessica Purkiss   \n",
       "4                                 Howard Portnoy   \n",
       "...                                          ...   \n",
       "20795                              Jerome Hudson   \n",
       "20796                           Benjamin Hoffman   \n",
       "20797  Michael J. de la Merced and Rachel Abrams   \n",
       "20798                                Alex Ansary   \n",
       "20799                              David Swanson   \n",
       "\n",
       "                                                    text  label  \n",
       "0      House Dem Aide: We Didn’t Even See Comey’s Let...      1  \n",
       "1      Ever get the feeling your life circles the rou...      0  \n",
       "2      Why the Truth Might Get You Fired October 29, ...      1  \n",
       "3      Videos 15 Civilians Killed In Single US Airstr...      1  \n",
       "4      Print \\nAn Iranian woman has been sentenced to...      1  \n",
       "...                                                  ...    ...  \n",
       "20795  Rapper T. I. unloaded on black celebrities who...      0  \n",
       "20796  When the Green Bay Packers lost to the Washing...      0  \n",
       "20797  The Macy’s of today grew from the union of sev...      0  \n",
       "20798  NATO, Russia To Hold Parallel Exercises In Bal...      1  \n",
       "20799    David Swanson is an author, activist, journa...      1  \n",
       "\n",
       "[20800 rows x 5 columns]"
      ]
     },
     "execution_count": 3,
     "metadata": {},
     "output_type": "execute_result"
    }
   ],
   "source": [
    "dataset\n"
   ]
  },
  {
   "cell_type": "code",
   "execution_count": 4,
   "id": "e6137a2a",
   "metadata": {},
   "outputs": [],
   "source": [
    "dataset=dataset.sample(5000)"
   ]
  },
  {
   "cell_type": "code",
   "execution_count": 5,
   "id": "3d98734d",
   "metadata": {},
   "outputs": [
    {
     "data": {
      "text/plain": [
       "(5000, 5)"
      ]
     },
     "execution_count": 5,
     "metadata": {},
     "output_type": "execute_result"
    }
   ],
   "source": [
    "dataset.shape"
   ]
  },
  {
   "cell_type": "code",
   "execution_count": 6,
   "id": "405ae0b8",
   "metadata": {},
   "outputs": [
    {
     "data": {
      "text/plain": [
       "(4404, 5)"
      ]
     },
     "execution_count": 6,
     "metadata": {},
     "output_type": "execute_result"
    }
   ],
   "source": [
    "dataset=dataset.dropna()\n",
    "dataset.shape"
   ]
  },
  {
   "cell_type": "code",
   "execution_count": 7,
   "id": "476bcb40",
   "metadata": {},
   "outputs": [],
   "source": [
    "dataset=dataset.copy()"
   ]
  },
  {
   "cell_type": "code",
   "execution_count": 8,
   "id": "5388c153",
   "metadata": {},
   "outputs": [],
   "source": [
    "dataset.reset_index(inplace=True)"
   ]
  },
  {
   "cell_type": "code",
   "execution_count": 9,
   "id": "60709301",
   "metadata": {},
   "outputs": [
    {
     "name": "stderr",
     "output_type": "stream",
     "text": [
      "d:\\anaconda3\\lib\\site-packages\\seaborn\\_decorators.py:36: FutureWarning: Pass the following variable as a keyword arg: x. From version 0.12, the only valid positional argument will be `data`, and passing other arguments without an explicit keyword will result in an error or misinterpretation.\n",
      "  warnings.warn(\n"
     ]
    },
    {
     "data": {
      "image/png": "[encoded data removed]",
      "text/plain": [
       "<Figure size 360x360 with 1 Axes>"
      ]
     },
     "metadata": {
      "needs_background": "light"
     },
     "output_type": "display_data"
    }
   ],
   "source": [
    "#cheacking distribution of real and fack news\n",
    "plt.figure(figsize=(5,5))\n",
    "sb.countplot(dataset.label);"
   ]
  },
  {
   "cell_type": "code",
   "execution_count": 10,
   "id": "8cdd90ee",
   "metadata": {},
   "outputs": [
    {
     "data": {
      "text/html": [
       "<div>\n",
       "<style scoped>\n",
       "    .dataframe tbody tr th:only-of-type {\n",
       "        vertical-align: middle;\n",
       "    }\n",
       "\n",
       "    .dataframe tbody tr th {\n",
       "        vertical-align: top;\n",
       "    }\n",
       "\n",
       "    .dataframe thead th {\n",
       "        text-align: right;\n",
       "    }\n",
       "</style>\n",
       "<table border=\"1\" class=\"dataframe\">\n",
       "  <thead>\n",
       "    <tr style=\"text-align: right;\">\n",
       "      <th></th>\n",
       "      <th>index</th>\n",
       "      <th>id</th>\n",
       "      <th>title</th>\n",
       "      <th>author</th>\n",
       "      <th>text</th>\n",
       "      <th>label</th>\n",
       "    </tr>\n",
       "  </thead>\n",
       "  <tbody>\n",
       "    <tr>\n",
       "      <th>0</th>\n",
       "      <td>18270</td>\n",
       "      <td>18270</td>\n",
       "      <td>South Carolina Defeats Mississippi State to Wi...</td>\n",
       "      <td>Jeré Longman</td>\n",
       "      <td>DALLAS  —   In the final seconds on Sunday, Da...</td>\n",
       "      <td>0</td>\n",
       "    </tr>\n",
       "    <tr>\n",
       "      <th>1</th>\n",
       "      <td>4487</td>\n",
       "      <td>4487</td>\n",
       "      <td>Congratulations, Folks!</td>\n",
       "      <td>Israel Shamir</td>\n",
       "      <td>Gino Santa Maria / Shutterstock.com \\nWhat cou...</td>\n",
       "      <td>1</td>\n",
       "    </tr>\n",
       "    <tr>\n",
       "      <th>2</th>\n",
       "      <td>11440</td>\n",
       "      <td>11440</td>\n",
       "      <td>Republicans Running for Congress Struggle With...</td>\n",
       "      <td>Carl Hulse</td>\n",
       "      <td>WASHINGTON  —   Senate Republicans breathed a ...</td>\n",
       "      <td>0</td>\n",
       "    </tr>\n",
       "  </tbody>\n",
       "</table>\n",
       "</div>"
      ],
      "text/plain": [
       "   index     id                                              title  \\\n",
       "0  18270  18270  South Carolina Defeats Mississippi State to Wi...   \n",
       "1   4487   4487                            Congratulations, Folks!   \n",
       "2  11440  11440  Republicans Running for Congress Struggle With...   \n",
       "\n",
       "          author                                               text  label  \n",
       "0   Jeré Longman  DALLAS  —   In the final seconds on Sunday, Da...      0  \n",
       "1  Israel Shamir  Gino Santa Maria / Shutterstock.com \\nWhat cou...      1  \n",
       "2     Carl Hulse  WASHINGTON  —   Senate Republicans breathed a ...      0  "
      ]
     },
     "execution_count": 10,
     "metadata": {},
     "output_type": "execute_result"
    }
   ],
   "source": [
    "dataset.head(3)"
   ]
  },
  {
   "cell_type": "markdown",
   "id": "54b921a4",
   "metadata": {},
   "source": [
    "<h4>creating a datafream that will used in rest of work <h4>"
   ]
  },
  {
   "cell_type": "code",
   "execution_count": 11,
   "id": "a7ff14ff",
   "metadata": {},
   "outputs": [],
   "source": [
    "#it is clear that if we include the 'author' coloumn in our futher exploration and anlysis it will have a significant impact \n",
    "#so we will need to drop it"
   ]
  },
  {
   "cell_type": "code",
   "execution_count": 12,
   "id": "d2dd1919",
   "metadata": {},
   "outputs": [],
   "source": [
    "#dataset['text']=dataset['title']+ \" \" +dataset['text']\n",
    "#this will delete all the other coloumns we do not need for the rest of the work\n",
    "del dataset['title']\n",
    "del dataset['author']\n",
    "del dataset['id']"
   ]
  },
  {
   "cell_type": "code",
   "execution_count": 13,
   "id": "d1500458",
   "metadata": {},
   "outputs": [
    {
     "data": {
      "text/html": [
       "<div>\n",
       "<style scoped>\n",
       "    .dataframe tbody tr th:only-of-type {\n",
       "        vertical-align: middle;\n",
       "    }\n",
       "\n",
       "    .dataframe tbody tr th {\n",
       "        vertical-align: top;\n",
       "    }\n",
       "\n",
       "    .dataframe thead th {\n",
       "        text-align: right;\n",
       "    }\n",
       "</style>\n",
       "<table border=\"1\" class=\"dataframe\">\n",
       "  <thead>\n",
       "    <tr style=\"text-align: right;\">\n",
       "      <th></th>\n",
       "      <th>index</th>\n",
       "      <th>text</th>\n",
       "      <th>label</th>\n",
       "    </tr>\n",
       "  </thead>\n",
       "  <tbody>\n",
       "    <tr>\n",
       "      <th>0</th>\n",
       "      <td>18270</td>\n",
       "      <td>DALLAS  —   In the final seconds on Sunday, Da...</td>\n",
       "      <td>0</td>\n",
       "    </tr>\n",
       "    <tr>\n",
       "      <th>1</th>\n",
       "      <td>4487</td>\n",
       "      <td>Gino Santa Maria / Shutterstock.com \\nWhat cou...</td>\n",
       "      <td>1</td>\n",
       "    </tr>\n",
       "    <tr>\n",
       "      <th>2</th>\n",
       "      <td>11440</td>\n",
       "      <td>WASHINGTON  —   Senate Republicans breathed a ...</td>\n",
       "      <td>0</td>\n",
       "    </tr>\n",
       "    <tr>\n",
       "      <th>3</th>\n",
       "      <td>1554</td>\n",
       "      <td>Share This \\nA man was pulling out of his driv...</td>\n",
       "      <td>1</td>\n",
       "    </tr>\n",
       "    <tr>\n",
       "      <th>4</th>\n",
       "      <td>15703</td>\n",
       "      <td>By David Haggith, the Great Recession Blog . \\...</td>\n",
       "      <td>1</td>\n",
       "    </tr>\n",
       "  </tbody>\n",
       "</table>\n",
       "</div>"
      ],
      "text/plain": [
       "   index                                               text  label\n",
       "0  18270  DALLAS  —   In the final seconds on Sunday, Da...      0\n",
       "1   4487  Gino Santa Maria / Shutterstock.com \\nWhat cou...      1\n",
       "2  11440  WASHINGTON  —   Senate Republicans breathed a ...      0\n",
       "3   1554  Share This \\nA man was pulling out of his driv...      1\n",
       "4  15703  By David Haggith, the Great Recession Blog . \\...      1"
      ]
     },
     "execution_count": 13,
     "metadata": {},
     "output_type": "execute_result"
    }
   ],
   "source": [
    "dataset.head(5)"
   ]
  },
  {
   "cell_type": "code",
   "execution_count": 14,
   "id": "d4690663",
   "metadata": {},
   "outputs": [],
   "source": [
    "#stemming process......."
   ]
  },
  {
   "cell_type": "code",
   "execution_count": 15,
   "id": "1152b131",
   "metadata": {},
   "outputs": [],
   "source": [
    "def text_cleaning(data):\n",
    "    corpus=[]\n",
    "    for i in range(0,len(data)):\n",
    "        clean_data=re.sub(r'\\W',' ',str(data[i]))\n",
    "        clean_data=clean_data.lower()\n",
    "        clean_data=re.sub(r'\\d+',\" \",clean_data)\n",
    "        clean_data=re.sub(r\"[^a-zA-Z]\",' ',clean_data)\n",
    "        clean_data=re.sub(r'\\s+',' ',clean_data)\n",
    "        corpus.append(clean_data)\n",
    "    return corpus"
   ]
  },
  {
   "cell_type": "code",
   "execution_count": 16,
   "id": "a7de5d93",
   "metadata": {},
   "outputs": [],
   "source": [
    "corpus=text_cleaning(dataset['text'])"
   ]
  },
  {
   "cell_type": "code",
   "execution_count": 17,
   "id": "9b96aa0b",
   "metadata": {},
   "outputs": [],
   "source": [
    "#vectorization process........."
   ]
  },
  {
   "cell_type": "code",
   "execution_count": 18,
   "id": "6c5533f4",
   "metadata": {},
   "outputs": [],
   "source": [
    "tf_vector=TfidfVectorizer(max_features=len(corpus),ngram_range=(1,2),stop_words=stopwords.words('english'))"
   ]
  },
  {
   "cell_type": "code",
   "execution_count": 19,
   "id": "b59b093e",
   "metadata": {},
   "outputs": [],
   "source": [
    "tf_vector_matrix=tf_vector.fit_transform(corpus).todense()"
   ]
  },
  {
   "cell_type": "code",
   "execution_count": 20,
   "id": "2c2b4f66",
   "metadata": {},
   "outputs": [],
   "source": [
    "#tf_vector_matrix"
   ]
  },
  {
   "cell_type": "code",
   "execution_count": 21,
   "id": "d05c96d6",
   "metadata": {},
   "outputs": [],
   "source": [
    "#getting dependend feature \n",
    "X=tf_vector_matrix"
   ]
  },
  {
   "cell_type": "code",
   "execution_count": 22,
   "id": "b6737505",
   "metadata": {},
   "outputs": [
    {
     "data": {
      "text/plain": [
       "(4404, 4404)"
      ]
     },
     "execution_count": 22,
     "metadata": {},
     "output_type": "execute_result"
    }
   ],
   "source": [
    "X.shape"
   ]
  },
  {
   "cell_type": "code",
   "execution_count": 23,
   "id": "045de8b2",
   "metadata": {},
   "outputs": [],
   "source": [
    "#getting dependent feature\n",
    "Y=dataset['label']"
   ]
  },
  {
   "cell_type": "code",
   "execution_count": 24,
   "id": "b7a9a49b",
   "metadata": {},
   "outputs": [],
   "source": [
    "#divide the data into Train and test\n",
    "X_train, X_test ,Y_train,Y_test = train_test_split(X,Y,test_size=0.30,random_state=0)"
   ]
  },
  {
   "cell_type": "markdown",
   "id": "422a35ce",
   "metadata": {},
   "source": [
    "now we will apply many algorithms on this split data and cheack accuracy_scor and time taken by every model\n",
    "and then we will select best one ......"
   ]
  },
  {
   "cell_type": "markdown",
   "id": "f5ef51c7",
   "metadata": {},
   "source": [
    "<h2>  1 . KNN aldorithm</h2>"
   ]
  },
  {
   "cell_type": "code",
   "execution_count": 25,
   "id": "6d40d198",
   "metadata": {},
   "outputs": [],
   "source": [
    "# Model training \n",
    "#time_s=time()\n",
    "#KNN_model=KNeighborsClassifier()\n",
    "#KNN_learner=KNN_model.fit(X_train,Y_train)\n",
    "#time_end=time()\n",
    "#tTime_KNN=time_end-time_s\n",
    "#print(\"Learning time taken by KNN moldel is {}\".format(tTime_KNN))"
   ]
  },
  {
   "cell_type": "code",
   "execution_count": 26,
   "id": "272edd16",
   "metadata": {},
   "outputs": [],
   "source": [
    "# Model prediction \n",
    "#time_s=time()\n",
    "#prediction_KNN=KNN_learner.predict(X_test)\n",
    "#acc_KNN=accuracy_score(prediction_KNN,Y_test)\n",
    "#time_end=time()\n",
    "#pTime_KNN=time_end-time_s\n",
    "#print(\"Accuracy score of knn algo {} and time taken {}\".format(acc_KNN,(pTime_KNN)))"
   ]
  },
  {
   "cell_type": "code",
   "execution_count": 27,
   "id": "1767966c",
   "metadata": {},
   "outputs": [],
   "source": [
    "#cm_KNN = confusion_matrix(Y_test,prediction_KNN)"
   ]
  },
  {
   "cell_type": "code",
   "execution_count": 28,
   "id": "307bd65b",
   "metadata": {},
   "outputs": [],
   "source": [
    "#cm_KNN"
   ]
  },
  {
   "cell_type": "code",
   "execution_count": 29,
   "id": "3bcfc07e",
   "metadata": {},
   "outputs": [],
   "source": [
    "#print(classification_report(Y_test,prediction_KNN))"
   ]
  },
  {
   "cell_type": "markdown",
   "id": "bf59bb19",
   "metadata": {},
   "source": [
    "<h2> 2. Logistic Regression algorithm</h2>"
   ]
  },
  {
   "cell_type": "code",
   "execution_count": 30,
   "id": "69357234",
   "metadata": {},
   "outputs": [
    {
     "name": "stdout",
     "output_type": "stream",
     "text": [
      "Learning Time taken by LogisticRegression algo is 18.894975662231445\n"
     ]
    }
   ],
   "source": [
    "# Model training \n",
    "time_s=time()\n",
    "LR_model=LogisticRegression()\n",
    "LR_learner=LR_model.fit(X_train,Y_train)\n",
    "time_end=time()\n",
    "tTime_LR=time_end-time_s\n",
    "print(\"Learning Time taken by LogisticRegression algo is {}\".format(tTime_LR))"
   ]
  },
  {
   "cell_type": "code",
   "execution_count": 31,
   "id": "642c246d",
   "metadata": {},
   "outputs": [
    {
     "name": "stdout",
     "output_type": "stream",
     "text": [
      "Accuracy score of LR algo is:  0.9198184568835098 and time taken 0.1540381908416748\n"
     ]
    }
   ],
   "source": [
    "# Model prediction \n",
    "time_s=time()\n",
    "prediction_LR=LR_learner.predict(X_test)\n",
    "acc_LR=accuracy_score(prediction_LR,Y_test)\n",
    "time_end=time()\n",
    "pTime_LR=time_end-time_s\n",
    "print(\"Accuracy score of LR algo is:  {} and time taken {}\".format(acc_LR,(pTime_LR)))"
   ]
  },
  {
   "cell_type": "code",
   "execution_count": 32,
   "id": "14eb3ebb",
   "metadata": {},
   "outputs": [],
   "source": [
    "cm_LR = confusion_matrix(Y_test,prediction_LR)"
   ]
  },
  {
   "cell_type": "code",
   "execution_count": 33,
   "id": "82396f32",
   "metadata": {},
   "outputs": [
    {
     "data": {
      "text/plain": [
       "array([[714,  39],\n",
       "       [ 67, 502]], dtype=int64)"
      ]
     },
     "execution_count": 33,
     "metadata": {},
     "output_type": "execute_result"
    }
   ],
   "source": [
    "cm_LR"
   ]
  },
  {
   "cell_type": "code",
   "execution_count": 34,
   "id": "ddf679f5",
   "metadata": {},
   "outputs": [
    {
     "name": "stdout",
     "output_type": "stream",
     "text": [
      "              precision    recall  f1-score   support\n",
      "\n",
      "           0       0.91      0.95      0.93       753\n",
      "           1       0.93      0.88      0.90       569\n",
      "\n",
      "    accuracy                           0.92      1322\n",
      "   macro avg       0.92      0.92      0.92      1322\n",
      "weighted avg       0.92      0.92      0.92      1322\n",
      "\n"
     ]
    }
   ],
   "source": [
    "print(classification_report(Y_test,prediction_LR))"
   ]
  },
  {
   "cell_type": "markdown",
   "id": "9a645358",
   "metadata": {},
   "source": [
    "<h1> 3 . MultinomialNB(Naive Bayes) algorithm</h1>"
   ]
  },
  {
   "cell_type": "code",
   "execution_count": 35,
   "id": "18265464",
   "metadata": {},
   "outputs": [],
   "source": [
    "## Model training \n",
    "#time_s=time()\n",
    "#NB_model=MultinomialNB()\n",
    "#NB_learner=NB_model.fit(X_train,Y_train)\n",
    "#time_end=time()\n",
    "#tTime_NB=time_end-time_s\n",
    "#print(\"Learning Time taken by MultinomialNB algo is {}\".format(tTime_NB))"
   ]
  },
  {
   "cell_type": "code",
   "execution_count": 36,
   "id": "5b1160c7",
   "metadata": {},
   "outputs": [],
   "source": [
    "## Model prediction \n",
    "#time_s=time()\n",
    "#prediction_NB=NB_learner.predict(X_test)\n",
    "#=accuracy_score(prediction_NB,Y_test)\n",
    "#time_end=time()\n",
    "#pTime_NB=time_end-time_s\n",
    "#pTime_LR=time_end-time_s\n",
    "#print(\"Accuracy score of NB algo is:  {} and time taken {}\".format(acc_NB,(pTime_NB)))"
   ]
  },
  {
   "cell_type": "code",
   "execution_count": 37,
   "id": "0d89c702",
   "metadata": {},
   "outputs": [],
   "source": [
    "#cm_NB = confusion_matrix(Y_test,prediction_NB)"
   ]
  },
  {
   "cell_type": "code",
   "execution_count": 38,
   "id": "486c9d1f",
   "metadata": {},
   "outputs": [],
   "source": [
    "#cm_NB"
   ]
  },
  {
   "cell_type": "code",
   "execution_count": 39,
   "id": "8157b60d",
   "metadata": {},
   "outputs": [],
   "source": [
    "#print(classification_report(Y_test,prediction_NB))"
   ]
  },
  {
   "cell_type": "markdown",
   "id": "d6e51df7",
   "metadata": {},
   "source": [
    "<h1> 4 . Bagging Classifier (Decision tree) algorithm</h1>"
   ]
  },
  {
   "cell_type": "code",
   "execution_count": 40,
   "id": "aa7c11d9",
   "metadata": {},
   "outputs": [],
   "source": [
    "# Model training \n",
    "#time_s=time()\n",
    "#DT_model= DecisionTreeClassifier()\n",
    "#DT_learner=DT_model.fit(X_train, Y_train)\n",
    "#t#ime_end=time()\n",
    "#=time_end-time_s\n",
    "#print(\"Learning Time taken by Decision tree algo is {}\".format(tTime_DT))"
   ]
  },
  {
   "cell_type": "code",
   "execution_count": 41,
   "id": "9b1cf8f6",
   "metadata": {},
   "outputs": [],
   "source": [
    "## Model prediction \n",
    "#time_s=time()\n",
    "#prediction_DT=DT_learner.predict(X_test)\n",
    "#acc_DT=accuracy_score(prediction_DT,Y_test)\n",
    "#time_end=time()\n",
    "#pTime_DT=time_end-time_s\n",
    "#pTime_LR=time_end-time_s\n",
    "#print(\"Accuracy score of decision tree algo is:  {} and time taken {}\".format(acc_DT,(pTime_DT)))"
   ]
  },
  {
   "cell_type": "code",
   "execution_count": 42,
   "id": "be50e70a",
   "metadata": {},
   "outputs": [],
   "source": [
    "#cm_DT = confusion_matrix(Y_test,prediction_DT)"
   ]
  },
  {
   "cell_type": "code",
   "execution_count": 43,
   "id": "471efa71",
   "metadata": {},
   "outputs": [],
   "source": [
    "#cm_DT"
   ]
  },
  {
   "cell_type": "code",
   "execution_count": 44,
   "id": "a1ee4fd5",
   "metadata": {},
   "outputs": [],
   "source": [
    "#print(classification_report(Y_test,prediction_DT))"
   ]
  },
  {
   "cell_type": "markdown",
   "id": "85c6552c",
   "metadata": {},
   "source": [
    "<h3>Now.. we will compair and visualiese accuracy_scor , training_time , testing_time of all algorithm </h3>"
   ]
  },
  {
   "cell_type": "code",
   "execution_count": 45,
   "id": "c64c7397",
   "metadata": {},
   "outputs": [],
   "source": [
    "#now we will create a dictionary for time and accuracsy scor of all algo\n",
    "#dict1={\n",
    "#    \"Algorithm\":['KNN','Logistic Reggression','MultinomialNB','Bagging Classifier'],\n",
    "#    \"Accurasy_Score\":[acc_KNN , acc_LR, acc_NB , acc_DT],\n",
    "#    \"Prediction Time\":[pTime_KNN, pTime_LR , pTime_NB , pTime_DT],\n",
    "#    \"Trainning Time\":[tTime_KNN, tTime_LR , tTime_NB , tTime_DT]\n",
    "#}\n",
    "   "
   ]
  },
  {
   "cell_type": "code",
   "execution_count": 46,
   "id": "e6c61125",
   "metadata": {},
   "outputs": [],
   "source": [
    "##converting dictionary into datafream to create a table for every algo's performance \n",
    "#performance_df=pd.DataFrame(dict1)"
   ]
  },
  {
   "cell_type": "code",
   "execution_count": 47,
   "id": "e81a923b",
   "metadata": {},
   "outputs": [],
   "source": [
    "#performance_df"
   ]
  },
  {
   "cell_type": "code",
   "execution_count": 48,
   "id": "d6604892",
   "metadata": {},
   "outputs": [],
   "source": [
    "#plt.figure(figsize=(20,5))\n",
    "#plt.subplot(1,3,1)\n",
    "#sb.barplot(x='Algorithm',y='Accurasy_Score',hue=\"Algorithm\",data=performance_df)\n",
    "#plt.subplot(1,3,2)\n",
    "#sb.barplot(x='Algorithm',y='Prediction Time',hue=\"Algorithm\",data=performance_df)\n",
    "#plt.subplot(1,3,3)\n",
    "#sb.barplot(x='Algorithm',y='Trainning Time',hue=\"Algorithm\",data=performance_df)"
   ]
  },
  {
   "cell_type": "markdown",
   "id": "b0c19c8a",
   "metadata": {},
   "source": [
    "Now it is clear that <b>logistic regression algorithm</b> is best fit for our model\n",
    "because it gives best <b>accuracy score 96%</b>"
   ]
  },
  {
   "cell_type": "code",
   "execution_count": null,
   "id": "32d2b72d",
   "metadata": {},
   "outputs": [],
   "source": []
  },
  {
   "cell_type": "markdown",
   "id": "d991db20",
   "metadata": {},
   "source": [
    "<h3>Now we will create pkl file for <h3>"
   ]
  },
  {
   "cell_type": "code",
   "execution_count": 49,
   "id": "100f6b1b",
   "metadata": {},
   "outputs": [],
   "source": [
    "pickle.dump(LR_model,open('model.pkl','wb'))"
   ]
  },
  {
   "cell_type": "code",
   "execution_count": 50,
   "id": "8a11518c",
   "metadata": {},
   "outputs": [],
   "source": [
    "#load the model from disk\n",
    "loaded_model = pickle.load(open('model.pkl','rb'))"
   ]
  },
  {
   "cell_type": "code",
   "execution_count": 51,
   "id": "0eefd803",
   "metadata": {},
   "outputs": [],
   "source": [
    "pickle.dump(tf_vector,open('vector.pkl','wb'))"
   ]
  }
 ],
 "metadata": {
  "kernelspec": {
   "display_name": "Python 3",
   "language": "python",
   "name": "python3"
  },
  "language_info": {
   "codemirror_mode": {
    "name": "ipython",
    "version": 3
   },
   "file_extension": ".py",
   "mimetype": "text/x-python",
   "name": "python",
   "nbconvert_exporter": "python",
   "pygments_lexer": "ipython3",
   "version": "3.8.8"
  }
 },
 "nbformat": 4,
 "nbformat_minor": 5
}
